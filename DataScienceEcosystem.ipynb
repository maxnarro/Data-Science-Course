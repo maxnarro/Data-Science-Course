{
 "cells": [
  {
   "cell_type": "markdown",
   "id": "ec8b08f4-0507-4c21-a288-24ade2d7a723",
   "metadata": {},
   "source": [
    "# Data Science Tools and Ecosystem\n"
   ]
  },
  {
   "cell_type": "markdown",
   "id": "4f56407d-0722-457c-a408-e934bd346b42",
   "metadata": {},
   "source": [
    "In this notebook, Data Science Tools and Ecosystem are sumarized"
   ]
  },
  {
   "cell_type": "markdown",
   "id": "ce3f8a40-63d6-4558-8253-4fb0d4156d8c",
   "metadata": {},
   "source": [
    "Learning Objectives\n",
    "- Create a Jupyter Notebook with markdown and code cells\n",
    "- list examples of languages, libraries and tools used in Data Science\n",
    "- Share the Jupyter notebook publicly on Github"
   ]
  },
  {
   "cell_type": "markdown",
   "id": "0349b4ac-93a1-4bcc-a8f6-5041b652eea7",
   "metadata": {},
   "source": [
    "Some populaar langages that Data Scientist use are:\n",
    "1. Python\n",
    "2. R\n",
    "3. SQL"
   ]
  },
  {
   "cell_type": "markdown",
   "id": "5f785824-69be-4b54-8945-7fa1386178cb",
   "metadata": {},
   "source": [
    "Some of the commonly used libraries used by Data Scientists include:\n",
    "1. NumPy\n",
    "2. Pandas\n",
    "3. Seaborn\n",
    "4. matplotlib\n",
    "5. Scikit learn\n",
    "6. keras\n",
    "7. Pytorch\n",
    "8. Tenseflow\n",
    "9. ggplot2"
   ]
  },
  {
   "cell_type": "markdown",
   "id": "a167326e-425f-41a5-bbe3-3a06e1e85091",
   "metadata": {},
   "source": [
    "# Data Science Tools\n",
    "\n",
    "|Tool             | Description                                                                                                                  |\n",
    "|-----------------|------------------------------------------------------------------------------------------------------------------------------|\n",
    "|Jupyter Notebook | Supports more tan hundred different programming languages through \"kernels\"                                                  |\n",
    "|Jupyter lab      | It has the ability to open different of files including jupyter notebooks, data and terminals and arrange then in a canvas   |\n",
    "|Apache Zeppelin  | It offers a similar experience in the plotting capability                                                                    |\n",
    "|R Studio         | it exclusively runs R and associated libraries                                                                               |\n",
    "|Spyder           | tries to mimir R Studio funcionality for Pythons                                                                             |\n",
    "|Apache Spark     | Provides cluster execution environment                                                                                       |\n",
    "|Knime            | It has drag-and-drop capabilities and built-in visualization capabilities                                                    |"
   ]
  },
  {
   "cell_type": "markdown",
   "id": "b700442a-8991-406e-b518-ba05badfb823",
   "metadata": {},
   "source": [
    "# Arithmetic Operators Examples\n",
    "Below are a few examples of evaluating arithmetic expressions in python.\n",
    "|Operator| name           | Example     |\n",
    "|--------|----------------|-------------|\n",
    "|+       | Addition       | 1 +1 = 2    | \n",
    "|-       | Substraction   | 2 - 1 = 1   |\n",
    "|*       | Multiplication | 1 * 4 = 4   |\n",
    "|/       | Division       | 10 / 2 = 5  |\n",
    "|%       | Modulus        | 10 % 3 = 1  |\n",
    "|**      | Exponent       | 2**3 = 8    |\n",
    "|//      | Floor Division | 10/3 = 3    |"
   ]
  },
  {
   "cell_type": "code",
   "execution_count": 2,
   "id": "40a50b97-546d-4689-b726-c5e7d31ec643",
   "metadata": {},
   "outputs": [
    {
     "name": "stdout",
     "output_type": "stream",
     "text": [
      "50\n",
      "53\n"
     ]
    }
   ],
   "source": [
    "#This is simple arithmetic expresssion to multiply and then add integers\n",
    "a = 5\n",
    "b = 10\n",
    "c = a * b\n",
    "d = 3\n",
    "e = c + d\n",
    "\n",
    "print (c)\n",
    "print (e)"
   ]
  },
  {
   "cell_type": "code",
   "execution_count": 1,
   "id": "d899b3d9-1107-40ec-859b-9e9c80f41f3c",
   "metadata": {},
   "outputs": [
    {
     "name": "stdout",
     "output_type": "stream",
     "text": [
      "Please enter the minutes\n"
     ]
    },
    {
     "name": "stdin",
     "output_type": "stream",
     "text": [
      " 200\n"
     ]
    },
    {
     "name": "stdout",
     "output_type": "stream",
     "text": [
      "the result in hours is 3.3333333333333335\n"
     ]
    }
   ],
   "source": [
    "#This will convert 200 minutes to hours by dividing by 60\n",
    "\n",
    "print (\"Please enter the minutes\")\n",
    "minutes = input()\n",
    "minutes = int(minutes)\n",
    "hours = 60\n",
    "result = minutes / hours\n",
    "\n",
    "print (\"the result in hours is \" + str(result))"
   ]
  },
  {
   "cell_type": "markdown",
   "id": "cd4343bd-ea15-4146-90fc-676d7c3e2aae",
   "metadata": {},
   "source": [
    "## Author\n",
    "Max Obed Ricardo Jesus Alfredo Narro Rangel"
   ]
  },
  {
   "cell_type": "code",
   "execution_count": null,
   "id": "9c89c3bc-bd15-4d96-826f-bf7f22e64bac",
   "metadata": {},
   "outputs": [],
   "source": []
  }
 ],
 "metadata": {
  "kernelspec": {
   "display_name": "Python 3 (ipykernel)",
   "language": "python",
   "name": "python3"
  },
  "language_info": {
   "codemirror_mode": {
    "name": "ipython",
    "version": 3
   },
   "file_extension": ".py",
   "mimetype": "text/x-python",
   "name": "python",
   "nbconvert_exporter": "python",
   "pygments_lexer": "ipython3",
   "version": "3.11.7"
  }
 },
 "nbformat": 4,
 "nbformat_minor": 5
}
